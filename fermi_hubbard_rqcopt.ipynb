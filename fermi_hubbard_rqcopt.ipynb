{
 "cells": [
  {
   "attachments": {},
   "cell_type": "markdown",
   "metadata": {},
   "source": [
    "## Imports ##"
   ]
  },
  {
   "cell_type": "code",
   "execution_count": 2,
   "metadata": {},
   "outputs": [],
   "source": [
    "import numpy as np\n",
    "import scipy\n",
    "import h5py\n",
    "import rqcopt as oc\n",
    "import matplotlib.pyplot as plt\n",
    "from scipy import optimize\n",
    "import ctypes"
   ]
  },
  {
   "cell_type": "markdown",
   "metadata": {},
   "source": [
    "## Import C dynamic libraries ##\n",
    "\n",
    "This code block is used to run rqcopt faster using the binaries compiled from the C code. You have to compile the dynamic library by yourself. If you cannot access the C code, you can replace the function <strong>optimize_brickwall_circuit</strong> later by the one from the rqcopt library in Python. That function, however, is significantly slower."
   ]
  },
  {
   "cell_type": "code",
   "execution_count": 3,
   "metadata": {},
   "outputs": [
    {
     "name": "stdout",
     "output_type": "stream",
     "text": [
      "<class 'ctypes.CDLL'>\n"
     ]
    }
   ],
   "source": [
    "### CHANGE PATH HERE\n",
    "rqcopt_dynlib_path = \"rqcopt_lib.dylib\"\n",
    "rqcopt_lib = ctypes.CDLL(rqcopt_dynlib_path)\n",
    "print(type(rqcopt_lib))\n",
    "\n",
    "# Define the structure for truncated_cg_params\n",
    "class TruncatedCGParams(ctypes.Structure):\n",
    "    _fields_ = [(\"maxiter\", ctypes.c_int),\n",
    "                (\"abstol\", ctypes.c_double),\n",
    "                (\"reltol\", ctypes.c_double)]\n",
    "\n",
    "# Define the structure for rtr_params\n",
    "class RTRParams(ctypes.Structure):\n",
    "    _fields_ = [(\"tcg_params\", TruncatedCGParams),\n",
    "                (\"rho_trust\", ctypes.c_double),\n",
    "                (\"radius_init\", ctypes.c_double),\n",
    "                (\"maxradius\", ctypes.c_double),\n",
    "                (\"g_func\", ctypes.c_void_p),\n",
    "                (\"g_data\", ctypes.c_void_p),\n",
    "                (\"g_iter\", ctypes.POINTER(ctypes.c_double))]\n",
    "\n",
    "# Define the function signature for target_func\n",
    "target_func = ctypes.CFUNCTYPE(ctypes.c_double, ctypes.POINTER(ctypes.c_double), ctypes.c_void_p)\n",
    "\n",
    "# Define the optimize_brickwall_circuit function signature\n",
    "optimize_brickwall_circuit = rqcopt_lib.optimize_brickwall_circuit_compact\n",
    "optimize_brickwall_circuit.restype = None\n",
    "optimize_brickwall_circuit.argtypes = [\n",
    "    ctypes.c_void_p,                                  # udata\n",
    "    ctypes.POINTER(ctypes.c_double * 32),             # Vlist_start\n",
    "    ctypes.c_int,                                     # nlayers\n",
    "    ctypes.c_int,                                     # L\n",
    "    ctypes.POINTER(ctypes.POINTER(ctypes.c_int)),     # perms\n",
    "    ctypes.c_int,                                     # niter\n",
    "    ctypes.POINTER(ctypes.c_double),                  # f_iter\n",
    "    ctypes.POINTER(ctypes.c_double * 32)              # Vlist_opt\n",
    "]"
   ]
  },
  {
   "attachments": {},
   "cell_type": "markdown",
   "metadata": {},
   "source": [
    "## Function definitions ##"
   ]
  },
  {
   "cell_type": "code",
   "execution_count": 35,
   "metadata": {},
   "outputs": [],
   "source": [
    "def trotterized_time_evolution(L: int, hloc, perm_set, method: oc.SplittingMethod, dt: float, nsteps: int):\n",
    "    \"\"\"\n",
    "    Compute the numeric ODE flow operator of the quantum time evolution\n",
    "    based on the provided splitting method.\n",
    "    \"\"\"\n",
    "    Vlist = []\n",
    "    perms = []\n",
    "    for i, c in zip(method.indices, method.coeffs):\n",
    "        Vlist.append(scipy.linalg.expm(-1j*c*dt*hloc[i]))\n",
    "        perms.append(perm_set[i])\n",
    "    V = oc.brickwall_unitary(Vlist, L, perms)\n",
    "    return np.linalg.matrix_power(V, nsteps)\n",
    "\n",
    "def construct_fermi_hubbard_local_kinetic_term(J):\n",
    "    return -J * np.array([[0., 0., 0., 0.], [0., 0., 1., 0.], [0., 1., 0., 0.], [0., 0., 0., 0.]]);\n",
    "\n",
    "def construct_fermi_hubbard_local_interaction_term(U):\n",
    "    n_spin = np.array([[0., 0.], [0., 1.]])\n",
    "    return U * np.kron(n_spin, n_spin);\n",
    "\n",
    "def acting_two_qubit_gate(U, idx1, idx2, total_qubits):\n",
    "    if idx2 < idx1:\n",
    "        U = np.reshape(U, (2,2,2,2))\n",
    "        U = np.transpose(U, (1,0, 3,2))\n",
    "        U = np.reshape(U, (4,4))\n",
    "        idx_temp = idx1\n",
    "        idx1 = idx2\n",
    "        idx2 = idx_temp\n",
    "    mat = np.kron(U,np.eye(2**(total_qubits - 2)))\n",
    "    print(mat.shape)\n",
    "    mat = np.reshape(mat, (2,2,2**idx1, 2**(idx2 - idx1 - 1), 2**(total_qubits - idx2 - 1),2,2,2**idx1, 2**(idx2 - idx1 - 1), 2**(total_qubits - idx2 - 1)))\n",
    "    mat = np.transpose(mat, (2,0,3,1,4, 7,5,8,6,9))\n",
    "    mat = np.reshape(mat, (2**total_qubits, 2**total_qubits))\n",
    "    return mat\n",
    "\n",
    "def simulate_optimized_gate(vlist, perms, coeffs):\n",
    "    n_qubits = np.shape(perms[0])[0]\n",
    "    mat = np.eye(2**n_qubits)\n",
    "    print(mat.shape)\n",
    "    print(coeffs)\n",
    "    for v_idx in coeffs:\n",
    "        V = vlist[v_idx]\n",
    "        print(V.shape)\n",
    "        perm = perms[v_idx]\n",
    "        for i in range(int(len(perm) / 2)):\n",
    "            mat = acting_two_qubit_gate(V, perm[2*i], perm[2*i + 1], n_qubits) @ mat\n",
    "    return mat"
   ]
  },
  {
   "attachments": {},
   "cell_type": "markdown",
   "metadata": {},
   "source": [
    "## Initial values ##\n",
    "\n",
    "Globally default values"
   ]
  },
  {
   "cell_type": "code",
   "execution_count": 5,
   "metadata": {},
   "outputs": [],
   "source": [
    "L = 4\n",
    "J = 1.\n",
    "U = 4\n",
    "t = 1/8\n",
    "strang = oc.SplittingMethod.suzuki(3, 3)\n",
    "indices_start_n9, coeffs_start_n9 = oc.merge_layers(2*strang.indices, 2*strang.coeffs)\n",
    "coeffs_start_n9 = [0.5*c for c in coeffs_start_n9]\n",
    "method_start = oc.SplittingMethod(3, indices_start_n9, coeffs_start_n9, 2)\n",
    "\n",
    "### DEFINE NUMER OF ITERATIONS HERE ###\n",
    "nsteps = 50\n",
    "\n",
    "horz_even_sites = np.array(range(2*L))\n",
    "horz_odd_sites = np.roll(range(L*2), -1)\n",
    "horz_odd_sites[[L - 1, L*2 -1]] = horz_odd_sites[[L*2 - 1, L -1]]\n",
    "vert_sites = np.array([[i, i + L] for i in range(L)]).flatten()\n",
    "\n",
    "perm_set = [\n",
    "    horz_even_sites, \n",
    "    np.argsort(horz_odd_sites).tolist(), \n",
    "    np.argsort(vert_sites).tolist(),\n",
    "    horz_even_sites, \n",
    "    np.argsort(horz_odd_sites).tolist(), \n",
    "    np.argsort(vert_sites).tolist()]\n",
    "\n",
    "def get_perm_set(L):\n",
    "    horz_even_sites = np.array(range(2*L))\n",
    "    horz_odd_sites = np.roll(range(L*2), -1)\n",
    "    horz_odd_sites[[L - 1, L*2 -1]] = horz_odd_sites[[L*2 - 1, L -1]]\n",
    "    vert_sites = np.array([[i, i + L] for i in range(L)]).flatten()\n",
    "    return [\n",
    "        horz_even_sites, \n",
    "        np.argsort(horz_odd_sites).tolist(), \n",
    "        np.argsort(vert_sites).tolist(),\n",
    "        horz_even_sites, \n",
    "        np.argsort(horz_odd_sites).tolist(), \n",
    "        np.argsort(vert_sites).tolist()]\n",
    "\n",
    "\n",
    "\n",
    "bounds_pi = (0, 2 * np.pi)\n",
    "bounds = [bounds_pi for i in range(4)]"
   ]
  },
  {
   "attachments": {},
   "cell_type": "markdown",
   "metadata": {},
   "source": [
    "## Reference Hamiltonian ##"
   ]
  },
  {
   "cell_type": "code",
   "execution_count": 6,
   "metadata": {},
   "outputs": [],
   "source": [
    "def reference_hamiltonian(J, U, t, L):\n",
    "    H = np.zeros((2**(2*L), 2**(2*L)))\n",
    "\n",
    "    n_spin = np.eye(2)\n",
    "    n_spin[0,0] = 0\n",
    "    n_spin_big = np.kron(n_spin, np.kron(np.eye(2 ** (L - 1)), n_spin))\n",
    "    for i in range (L):\n",
    "        H += U * np.kron(np.eye(2 ** i), np.kron(n_spin_big, np.eye(2 ** (L - i - 1))))\n",
    "\n",
    "    ### LOCAL KINETIC TERM\n",
    "    hloc_horz = construct_fermi_hubbard_local_kinetic_term(J)\n",
    "    hloc_vert = construct_fermi_hubbard_local_interaction_term(U)\n",
    "    a_i = np.zeros((2,2))\n",
    "    a_i1 = np.zeros((2,2))\n",
    "    a_i[1,0] = 1\n",
    "    a_i1[0,1] = 1\n",
    "    for i in range (L - 1):\n",
    "        H += np.kron(np.eye(2 ** i), np.kron(hloc_horz, np.eye(2**(2 * L - i - 2))))\n",
    "    for i in range (L, 2*L - 1):\n",
    "        H += np.kron(np.eye(2 ** i), np.kron(hloc_horz, np.eye(2**(2 * L - i - 2))))\n",
    "    H += -J * np.kron(a_i1, np.kron(np.eye(2**(L - 2)), np.kron(a_i, np.eye(2**(L)))))\n",
    "    H += -J * np.kron(a_i, np.kron(np.eye(2**(L - 2)), np.kron(a_i1, np.eye(2**(L)))))\n",
    "    H += -J * np.kron(np.kron(np.eye(2**(L)), a_i1), np.kron(np.eye(2**(L - 2)), a_i))\n",
    "    H += -J * np.kron(np.kron(np.eye(2**(L)), a_i), np.kron(np.eye(2**(L - 2)), a_i1))\n",
    "    expiH = scipy.linalg.expm(-1j*H*t)\n",
    "\n",
    "    print(\"H.shape:\", H.shape)\n",
    "    return H, expiH"
   ]
  },
  {
   "cell_type": "markdown",
   "metadata": {},
   "source": [
    "## Optimization definitions ##"
   ]
  },
  {
   "cell_type": "markdown",
   "metadata": {},
   "source": [
    "### Definitions using the C library ###"
   ]
  },
  {
   "cell_type": "code",
   "execution_count": 7,
   "metadata": {},
   "outputs": [],
   "source": [
    "def optimize_fermi_hubbard_in_brickwall_layout_dylib(J, U, t, hloc_horz, hloc_vert, splitting, L):\n",
    "    Vlist_start = []\n",
    "    perms = []\n",
    "    hloc = [hloc_horz, hloc_horz, hloc_vert]\n",
    "    perm_set = get_perm_set(L)\n",
    "    for i, c in zip(splitting.indices, splitting.coeffs):\n",
    "        Vlist_start.append(scipy.linalg.expm(-1j*c*t*hloc[i]))\n",
    "        perms.append(perm_set[i])\n",
    "\n",
    "    Vlist_start = np.array(Vlist_start)\n",
    "    perms = np.array(perms, dtype='int32')\n",
    "    Vlist_opt = np.zeros_like(Vlist_start)\n",
    "    f_iter = np.zeros(nsteps, dtype=np.float64)\n",
    "    c_perems = (ctypes.POINTER(ctypes.c_int) * perms.shape[0])()\n",
    "    for i, row in enumerate(perms):\n",
    "        c_perems[i] = row.ctypes.data_as(ctypes.POINTER(ctypes.c_int))\n",
    "\n",
    "    H, expiH = reference_hamiltonian(J, U, t, L)\n",
    "    \n",
    "    optimize_brickwall_circuit(\n",
    "        expiH.ctypes.data_as(ctypes.POINTER(ctypes.c_double * 2)), \n",
    "        Vlist_start.ctypes.data_as(ctypes.POINTER(ctypes.c_double * 32)), \n",
    "        np.shape(perms)[0], \n",
    "        2 * L, \n",
    "        c_perems, \n",
    "        nsteps, \n",
    "        f_iter.ctypes.data_as(ctypes.POINTER(ctypes.c_double)),  \n",
    "        Vlist_opt.ctypes.data_as(ctypes.POINTER(ctypes.c_double * 32)))\n",
    "    return Vlist_opt, f_iter\n",
    "\n",
    "def optimize_fermi_hubbard_in_brickwall_layout_dylib_double(J, U, t, hloc_horz, hloc_vert, splitting, L):\n",
    "    Vlist_start = []\n",
    "    perms = []\n",
    "    hloc = [hloc_horz, hloc_horz, hloc_vert, np.eye(4), np.eye(4), np.eye(4)]\n",
    "    perm_set = get_perm_set(L)\n",
    "    for i, c in zip(splitting.indices, splitting.coeffs):\n",
    "        Vlist_start.append(scipy.linalg.expm(-1j*c*t*hloc[i]))\n",
    "        perms.append(perm_set[i])\n",
    "\n",
    "    Vlist_start = np.array(Vlist_start)\n",
    "    perms = np.array(perms, dtype='int32')\n",
    "    Vlist_opt = np.zeros_like(Vlist_start)\n",
    "    f_iter = np.zeros(nsteps, dtype=np.float64)\n",
    "    c_perems = (ctypes.POINTER(ctypes.c_int) * perms.shape[0])()\n",
    "    for i, row in enumerate(perms):\n",
    "        c_perems[i] = row.ctypes.data_as(ctypes.POINTER(ctypes.c_int))\n",
    "\n",
    "    H, expiH = reference_hamiltonian(J, U, t, L)\n",
    "    \n",
    "    optimize_brickwall_circuit(\n",
    "        expiH.ctypes.data_as(ctypes.POINTER(ctypes.c_double * 2)), \n",
    "        Vlist_start.ctypes.data_as(ctypes.POINTER(ctypes.c_double * 32)), \n",
    "        np.shape(perms)[0], \n",
    "        2 * L, \n",
    "        c_perems, \n",
    "        nsteps, \n",
    "        f_iter.ctypes.data_as(ctypes.POINTER(ctypes.c_double)),  \n",
    "        Vlist_opt.ctypes.data_as(ctypes.POINTER(ctypes.c_double * 32)))\n",
    "    return Vlist_opt, f_iter\n",
    "\n",
    "def optimize_fermi_hubbard_in_brickwall_layout_dylib_double_ref(J, U, t, hloc_horz, hloc_vert, splitting, L):\n",
    "    Vlist_start = []\n",
    "    perms = []\n",
    "    hloc = [hloc_horz, hloc_horz, hloc_vert, hloc_horz, hloc_horz, hloc_vert]\n",
    "    perm_set = get_perm_set(L)\n",
    "    for i, c in zip(splitting.indices, splitting.coeffs):\n",
    "        Vlist_start.append(scipy.linalg.expm(-1j*c*t*hloc[i]))\n",
    "        perms.append(perm_set[i])\n",
    "\n",
    "    Vlist_start = np.array(Vlist_start)\n",
    "    perms = np.array(perms, dtype='int32')\n",
    "    Vlist_opt = np.zeros_like(Vlist_start)\n",
    "    f_iter = np.zeros(nsteps, dtype=np.float64)\n",
    "    c_perems = (ctypes.POINTER(ctypes.c_int) * perms.shape[0])()\n",
    "    for i, row in enumerate(perms):\n",
    "        c_perems[i] = row.ctypes.data_as(ctypes.POINTER(ctypes.c_int))\n",
    "\n",
    "    H, expiH = reference_hamiltonian(J, U, t, L)\n",
    "    \n",
    "    optimize_brickwall_circuit(\n",
    "        expiH.ctypes.data_as(ctypes.POINTER(ctypes.c_double * 2)), \n",
    "        Vlist_start.ctypes.data_as(ctypes.POINTER(ctypes.c_double * 32)), \n",
    "        np.shape(perms)[0], \n",
    "        2 * L, \n",
    "        c_perems, \n",
    "        nsteps, \n",
    "        f_iter.ctypes.data_as(ctypes.POINTER(ctypes.c_double)),  \n",
    "        Vlist_opt.ctypes.data_as(ctypes.POINTER(ctypes.c_double * 32)))\n",
    "    return Vlist_opt, f_iter\n",
    "\n",
    "def optimize_fermi_hubbard_in_brickwall_layout_dylib_bootstrap(J, U, t, Vlist_start_original, splitting_start, L):\n",
    "    assert len(Vlist_start_original) == len(splitting_start.coeffs)\n",
    "    Vlist_start_original = np.concatenate(np.array([[np.identity(4), np.identity(4)], Vlist_start_original, [np.identity(4), np.identity(4)]]), axis = 0)\n",
    "    perms = [horz_even_sites, horz_odd_sites]\n",
    "    perm_set = get_perm_set(L)\n",
    "\n",
    "    Vlist_start = Vlist_start_original\n",
    "    for i, c in zip(splitting_start.indices, splitting_start.coeffs):\n",
    "        perms.append(perm_set[i])\n",
    "    \n",
    "    perms.append(horz_odd_sites)\n",
    "    perms.append(horz_even_sites)\n",
    "\n",
    "    assert len(splitting_start.coeffs) == len(Vlist_start) - 4\n",
    "    assert len(splitting_start.coeffs) == len(perms) - 4\n",
    "\n",
    "    Vlist_start = np.array(Vlist_start)\n",
    "    perms = np.array(perms, dtype='int32')\n",
    "    Vlist_opt = np.zeros_like(Vlist_start)\n",
    "    f_iter = np.zeros(nsteps, dtype=np.float64)\n",
    "    c_perems = (ctypes.POINTER(ctypes.c_int) * perms.shape[0])()\n",
    "    for i, row in enumerate(perms):\n",
    "        c_perems[i] = row.ctypes.data_as(ctypes.POINTER(ctypes.c_int))\n",
    "\n",
    "    H, expiH = reference_hamiltonian(J, U, t, L)\n",
    "    \n",
    "    optimize_brickwall_circuit(\n",
    "        expiH.ctypes.data_as(ctypes.POINTER(ctypes.c_double * 2)), \n",
    "        Vlist_start.ctypes.data_as(ctypes.POINTER(ctypes.c_double * 32)), \n",
    "        np.shape(perms)[0], \n",
    "        2 * L, \n",
    "        c_perems, \n",
    "        nsteps, \n",
    "        f_iter.ctypes.data_as(ctypes.POINTER(ctypes.c_double)),  \n",
    "        Vlist_opt.ctypes.data_as(ctypes.POINTER(ctypes.c_double * 32)))\n",
    "    return Vlist_opt, f_iter"
   ]
  },
  {
   "cell_type": "markdown",
   "metadata": {},
   "source": [
    "### Example definition using the Python library ###"
   ]
  },
  {
   "cell_type": "code",
   "execution_count": 8,
   "metadata": {},
   "outputs": [],
   "source": [
    "def optimize_fermi_hubbard_in_brickwall_layout():\n",
    "    Vlist_start = []\n",
    "    perms = []\n",
    "    hloc = [hloc_horz, hloc_horz, hloc_vert]\n",
    "    for i, c in zip(method_start.indices, method_start.coeffs):\n",
    "        Vlist_start.append(scipy.linalg.expm(-1j*c*t*hloc[i]))\n",
    "        perms.append(perm_set[i])\n",
    "    return oc.optimize_brickwall_circuit(2 * L, expiH, Vlist_start, perms, niter=nsteps)"
   ]
  },
  {
   "cell_type": "markdown",
   "metadata": {},
   "source": [
    "## Optimization ##"
   ]
  },
  {
   "cell_type": "markdown",
   "metadata": {},
   "source": [
    "### Trivial set-up ###"
   ]
  },
  {
   "cell_type": "code",
   "execution_count": null,
   "metadata": {},
   "outputs": [],
   "source": [
    "hamiltonian_params = [(1,4,1/8), (1,4,1/4), (1,4,1/2), (1,8,1/8), (1,8,1/4), (1,8,1/2)]\n",
    "H = 1 / np.sqrt(2) * np.array([[1, 1], [1, -1]])\n",
    "### SPLTTING METHOD CAN BE CHANGE HERE ###\n",
    "splitting = oc.SplittingMethod.suzuki(3,2)\n",
    "\n",
    "results_err = []\n",
    "results_vlist = []\n",
    "for i in range(len(hamiltonian_params)):\n",
    "    (J, U, t) = hamiltonian_params[i]\n",
    "\n",
    "    ### DEFINE v_kin AND v_inter HERE ###\n",
    "    v_kin = construct_fermi_hubbard_local_kinetic_term(J)\n",
    "    v_inter = construct_fermi_hubbard_local_interaction_term(U)\n",
    "    # v_kin = np.kron(H, H)\n",
    "    # v_inter = np.kron(H, H)\n",
    "    # v_kin = np.zeros((4,4))\n",
    "    # v_inter = np.zeros((4,4))\n",
    "    vlist, err = optimize_fermi_hubbard_in_brickwall_layout_dylib(J, U, t, v_kin, v_inter, splitting, 4)\n",
    "    results_err.append(err)\n",
    "    results_vlist.append(vlist)\n"
   ]
  },
  {
   "cell_type": "markdown",
   "metadata": {},
   "source": [
    "### Trivial set-up ###"
   ]
  },
  {
   "cell_type": "code",
   "execution_count": null,
   "metadata": {},
   "outputs": [],
   "source": [
    "hamiltonian_params = [(1,4,1/8), (1,4,1/4), (1,4,1/2), (1,8,1/8), (1,8,1/4), (1,8,1/2)]\n",
    "H = 1 / np.sqrt(2) * np.array([[1, 1], [1, -1]])\n",
    "### SPLTTING METHOD CAN BE CHANGE HERE ###\n",
    "splitting = oc.SplittingMethod.suzuki(5,1)\n",
    "\n",
    "results_err = []\n",
    "results_vlist = []\n",
    "for i in range(len(hamiltonian_params)):\n",
    "    (J, U, t) = hamiltonian_params[i]\n",
    "    v_kin = construct_fermi_hubbard_local_kinetic_term(J)\n",
    "    v_inter = construct_fermi_hubbard_local_interaction_term(U)\n",
    "    vlist, err = optimize_fermi_hubbard_in_brickwall_layout_dylib_double(J, U, t, v_kin, v_inter, splitting, 4)\n",
    "    results_err.append(err)\n",
    "    results_vlist.append(vlist)"
   ]
  },
  {
   "cell_type": "markdown",
   "metadata": {},
   "source": [
    "### Comparing different lengths of the system ###"
   ]
  },
  {
   "cell_type": "code",
   "execution_count": null,
   "metadata": {},
   "outputs": [],
   "source": [
    "hamiltonian_params = (1,4,1/8)\n",
    "## SPLTTING METHOD CAN BE CHANGE HERE #\n",
    "splitting = oc.SplittingMethod.suzuki(3,1)\n",
    "print(splitting.num_terms)\n",
    "print(splitting.num_layers)\n",
    "print(splitting.coeffs)\n",
    "\n",
    "\n",
    "results_err = []\n",
    "results_vlist = []\n",
    "Ls = [2,4,6]\n",
    "for L in Ls:\n",
    "    (J, U, t) = hamiltonian_params\n",
    "    v_kin = construct_fermi_hubbard_local_kinetic_term(J)\n",
    "    v_inter = construct_fermi_hubbard_local_interaction_term(U)\n",
    "    vlist, err = optimize_fermi_hubbard_in_brickwall_layout_dylib(J, U, t, v_kin, v_inter, splitting, L)\n",
    "    results_err.append(err)\n",
    "    results_vlist.append(vlist)"
   ]
  },
  {
   "cell_type": "markdown",
   "metadata": {},
   "source": [
    "### Bootstrapping ###"
   ]
  },
  {
   "cell_type": "code",
   "execution_count": null,
   "metadata": {},
   "outputs": [],
   "source": [
    "hamiltonian_params = [(1,4,1/8), (1,4,1/4), (1,4,1/2), (1,8,1/8), (1,8,1/4), (1,8,1/2)]\n",
    "results_err = []\n",
    "results_vlist = []\n",
    "with h5py.File(f\"basic_4th.hdf5\", \"r\") as f:\n",
    "    vlist_start = f[\"vlist\"]\n",
    "    for i in range(len(hamiltonian_params)):\n",
    "        (J, U, t) = hamiltonian_params[i]\n",
    "        vlist, err = optimize_fermi_hubbard_in_brickwall_layout_dylib_bootstrap(J, U, t, vlist_start[i], oc.SplittingMethod.suzuki(3,2), 4)\n",
    "        results_err.append(err)\n",
    "        results_vlist.append(vlist)"
   ]
  },
  {
   "cell_type": "markdown",
   "metadata": {},
   "source": [
    "## Save and plot results ##\n",
    "\n",
    "The following blocks can be used to save, load and plot the results."
   ]
  },
  {
   "cell_type": "code",
   "execution_count": 37,
   "metadata": {},
   "outputs": [],
   "source": [
    "def plot_opt_multiple(err_list, hamiltonian_params, title, filename):\n",
    "    plt.xlabel(\"Iteration\")\n",
    "    plt.ylabel(\"Error\")\n",
    "    plt.title(title)\n",
    "    markers = ['o', '*', '.', '1', 'x', '+', 's']\n",
    "    for i in range(len(hamiltonian_params)):\n",
    "        print(err_list[i][-1] + 2 ** (2 * L))\n",
    "        plt.semilogy(range(len(err_list[i])), (err_list[i] + 2**(2*L))/256, marker=markers[i], color=\"C{}\".format(i))\n",
    "    plt.legend([f\"({hamiltonian_params[i][0]}, {hamiltonian_params[i][1]}, {hamiltonian_params[i][2]})\" for i in range(len(hamiltonian_params))], loc='upper right')\n",
    "    plt.savefig(filename)"
   ]
  },
  {
   "cell_type": "markdown",
   "metadata": {},
   "source": [
    "### Save results ###"
   ]
  },
  {
   "cell_type": "code",
   "execution_count": 36,
   "metadata": {},
   "outputs": [],
   "source": [
    "with h5py.File(\"opt_results/combined6_4th_ref.hdf5\", \"w\") as f:\n",
    "    f.create_dataset(\"error\", data=np.array(results_err))\n",
    "    f.create_dataset(\"vlist\", data=np.array(results_vlist))\n"
   ]
  },
  {
   "cell_type": "markdown",
   "metadata": {},
   "source": [
    "### Show and safe plot from results_err ###"
   ]
  },
  {
   "cell_type": "code",
   "execution_count": null,
   "metadata": {},
   "outputs": [],
   "source": [
    "plot_opt_multiple(results_err, hamiltonian_params, \"Optimization progress, comparison to combined,\\nVlist_start:=[U_kin, U_kin, U_int, U_kin, U_kin, U_int],\\nSuzuki (4th order)\", \"plots/combined6_4th_ref.pdf\")\n"
   ]
  },
  {
   "cell_type": "markdown",
   "metadata": {},
   "source": [
    "### Show and save plot from the loaded data ###"
   ]
  },
  {
   "cell_type": "code",
   "execution_count": null,
   "metadata": {},
   "outputs": [],
   "source": [
    "with h5py.File(f\"opt_results/basic_4th_bootstrap.hdf5\", \"r\") as f:\n",
    "    plot_opt_multiple(f[\"error\"], hamiltonian_params, \"Optimization progress\\nVlist_start:=[kron(H,H),kron(H,H),kron(H,H)], Suzuki (2nd order)\", \"plots/name.pdf\")\n"
   ]
  },
  {
   "cell_type": "markdown",
   "metadata": {},
   "source": [
    "## Number operator ##\n",
    "\n",
    "The following blocks can be use to check, whether the resulting circuit commutes ith the number operator"
   ]
  },
  {
   "cell_type": "code",
   "execution_count": 12,
   "metadata": {},
   "outputs": [],
   "source": [
    "def number_operator(N):\n",
    "    mat = np.eye(2**(2*N), dtype=complex)\n",
    "    create_op = np.array([[0., 0.], [1., 0.]])\n",
    "    annihilate_op = np.array([[0., 1.], [0., 0.]])\n",
    "    for i in range(2 * N):\n",
    "        mat = np.kron(np.eye(int(2**(i))), np.kron(create_op @ annihilate_op, np.eye(int(2**(2 * N-i-1))))) @ mat\n",
    "        \n",
    "    return mat"
   ]
  },
  {
   "cell_type": "code",
   "execution_count": null,
   "metadata": {},
   "outputs": [
    {
     "name": "stdout",
     "output_type": "stream",
     "text": [
      "H.shape: (256, 256)\n",
      "H.shape: (256, 256)\n"
     ]
    },
    {
     "data": {
      "text/plain": [
       "0.0"
      ]
     },
     "execution_count": 23,
     "metadata": {},
     "output_type": "execute_result"
    }
   ],
   "source": [
    "np.linalg.norm(number_operator(L) @ reference_hamiltonian(1, 4, 0.125, 4) - reference_hamiltonian(1, 4, 0.125, 4) @ number_operator(L))"
   ]
  },
  {
   "cell_type": "code",
   "execution_count": null,
   "metadata": {},
   "outputs": [],
   "source": [
    "Ux = simulate_optimized_gate(results_vlist[0], perm_set, splitting.indices)\n",
    "N = number_operator(int(L))\n",
    "H = reference_hamiltonian(1, 4, 0.5, 4)\n",
    "np.linalg.norm(Ux @ N - N @ Ux, ord=2)"
   ]
  }
 ],
 "metadata": {
  "kernelspec": {
   "display_name": "cdlm",
   "language": "python",
   "name": "python3"
  },
  "language_info": {
   "codemirror_mode": {
    "name": "ipython",
    "version": 3
   },
   "file_extension": ".py",
   "mimetype": "text/x-python",
   "name": "python",
   "nbconvert_exporter": "python",
   "pygments_lexer": "ipython3",
   "version": "3.9.6"
  },
  "orig_nbformat": 4
 },
 "nbformat": 4,
 "nbformat_minor": 2
}
